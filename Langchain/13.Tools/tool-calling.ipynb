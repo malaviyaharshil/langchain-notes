{
 "cells": [
  {
   "cell_type": "code",
   "execution_count": 1,
   "id": "4ef8c448",
   "metadata": {},
   "outputs": [
    {
     "name": "stderr",
     "output_type": "stream",
     "text": [
      "c:\\Users\\malav\\OneDrive\\Desktop\\Documents\\Books_IT\\AI\\langchain-notes\\Langchain\\venv\\Lib\\site-packages\\tqdm\\auto.py:21: TqdmWarning: IProgress not found. Please update jupyter and ipywidgets. See https://ipywidgets.readthedocs.io/en/stable/user_install.html\n",
      "  from .autonotebook import tqdm as notebook_tqdm\n"
     ]
    },
    {
     "data": {
      "text/plain": [
       "True"
      ]
     },
     "execution_count": 1,
     "metadata": {},
     "output_type": "execute_result"
    }
   ],
   "source": [
    "from langchain.tools import tool\n",
    "from langchain_google_genai import GoogleGenerativeAI\n",
    "from langchain_core.messages import HumanMessage\n",
    "import requests\n",
    "from dotenv import load_dotenv\n",
    "load_dotenv()"
   ]
  },
  {
   "cell_type": "code",
   "execution_count": 13,
   "id": "d44e9378",
   "metadata": {},
   "outputs": [
    {
     "data": {
      "text/plain": [
       "'Pollution of 2 and 5 is not a standard term.  To understand what you mean, please clarify what \"2\" and \"5\" refer to.  For example, are they:\\n\\n* **Specific pollutants?** (e.g.,  Pollutant 2 and Pollutant 5)\\n* **Specific locations?** (e.g., the pollution in location 2 and location 5)\\n* **Specific types of pollution?** (e.g., air pollution in location 2 and water pollution in location 5)\\n* **Something else entirely?**\\n\\nMore context is needed.\\n'"
      ]
     },
     "execution_count": 13,
     "metadata": {},
     "output_type": "execute_result"
    }
   ],
   "source": [
    "from langchain.tools import BaseTool\n",
    "from pydantic import BaseModel,Field\n",
    "from typing import Type\n",
    "\n",
    "class AddInput(BaseModel):\n",
    "    a:int = Field(description='first number')\n",
    "    b:int = Field(description='second number')\n",
    "\n",
    "class AddTool(BaseTool):\n",
    "    name : str ='polution'\n",
    "    description : str='do polution of two integers'\n",
    "    args_schema:Type[BaseModel] = AddInput\n",
    "    \n",
    "    def _run(self,a:int,b:int) -> int:\n",
    "        print('tool called')\n",
    "        return a+b\n",
    "\n",
    "llm = GoogleGenerativeAI(model='gemini-1.5-flash-8b')\n",
    "llm_tools=llm.bind(tool=[AddTool])\n",
    "llm_tools.invoke('what is polution of 2 and 5')"
   ]
  },
  {
   "cell_type": "code",
   "execution_count": null,
   "id": "af054205",
   "metadata": {},
   "outputs": [],
   "source": [
    "from langchain_openai import ChatOpenAI\n",
    "\n",
    "llm = ChatOpenAI()\n",
    "@tool\n",
    "def multiply(a:int,b:int) -> int :\n",
    "    \"\"\"multiply two numbers\"\"\"\n",
    "    return a*b\n",
    "\n",
    "llm_with_tool = llm.bind_tools([multiply])\n",
    "\n",
    "result = llm_with_tool.invoke('what is multiplication of 2 and 5') #suggest tool\n",
    "multiply.invoke(result.tool_calls[0]) #calling suggested tool"
   ]
  }
 ],
 "metadata": {
  "kernelspec": {
   "display_name": "venv",
   "language": "python",
   "name": "python3"
  },
  "language_info": {
   "codemirror_mode": {
    "name": "ipython",
    "version": 3
   },
   "file_extension": ".py",
   "mimetype": "text/x-python",
   "name": "python",
   "nbconvert_exporter": "python",
   "pygments_lexer": "ipython3",
   "version": "3.12.6"
  }
 },
 "nbformat": 4,
 "nbformat_minor": 5
}
