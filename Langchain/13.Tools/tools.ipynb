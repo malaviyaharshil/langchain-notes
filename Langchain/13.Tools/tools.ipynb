{
 "cells": [
  {
   "cell_type": "code",
   "execution_count": 4,
   "id": "2253e629",
   "metadata": {},
   "outputs": [
    {
     "data": {
      "text/plain": [
       "\"Gold Rate in Ahmedabad Today (19th May 2025): Get 18K, 22 Carat & 24 Karat gold rate in Ahmedabad & last 10 days gold price based on rupees per gram from GoodReturns. ... 24K; May 18, 2025 ... The current gold rates in Kolkata stand at Rs 8,755 per gram for 22-karat gold and Rs 9,551 per gram for 24-karat gold (commonly known as 999 gold). Gold Rate In Ahmedabad Today. The current gold rates in Ahmedabad stand at Rs 8,760 per gram for 22-karat gold and Rs 9,556 per gram for 24-karat gold (commonly known as 999 gold). In last 7 days for 8 grams of 24 Carat Gold, the highest rate was on 10-May-2025 which was Rs. 76,852.00/- and the lowest rate was on 15-May-2025 which was Rs. 73,198.00/-. 24K Gold Rate in Ahmedabad View 18K Gold Rate | View 22K Gold Rate Latest Local Data (INR/gram) Ahmedabad Time. Retail Gold Rate in Ahmedabad Updated 18 May 2025 Gold Rate in Ahmedabad - Know Today's Gold Price in Ahmedabad & also, check 24 & 22 Karat Gold Rate for last 10 days of prices. ... Pure Gold (24K) (8 grams)14 May 2025 ₹ 71,272 ... Rs.8,814 per gram on 25 February 2025 . Lowest Rate from 1 February 2025 to 28 February 2025. Rs.7,710 per gram on 3 February 2025 . Rs.8,410 per gram on 3 ...\""
      ]
     },
     "execution_count": 4,
     "metadata": {},
     "output_type": "execute_result"
    }
   ],
   "source": [
    "from langchain_community.tools import DuckDuckGoSearchRun\n",
    "\n",
    "search_tool = DuckDuckGoSearchRun()\n",
    "result = search_tool.invoke('gold rate 19-may-25 24k ahmedabad')\n",
    "result"
   ]
  },
  {
   "cell_type": "code",
   "execution_count": 8,
   "id": "9e48808f",
   "metadata": {},
   "outputs": [
    {
     "name": "stdout",
     "output_type": "stream",
     "text": [
      "Executing command:\n",
      " python --version\n"
     ]
    },
    {
     "name": "stderr",
     "output_type": "stream",
     "text": [
      "c:\\Users\\malav\\OneDrive\\Desktop\\Documents\\Books_IT\\AI\\langchain-notes\\Langchain\\venv\\Lib\\site-packages\\langchain_community\\tools\\shell\\tool.py:33: UserWarning: The shell tool has no safeguards by default. Use at your own risk.\n",
      "  warnings.warn(\n"
     ]
    },
    {
     "data": {
      "text/plain": [
       "'Python 3.12.6\\r\\n'"
      ]
     },
     "execution_count": 8,
     "metadata": {},
     "output_type": "execute_result"
    }
   ],
   "source": [
    "from langchain_community.tools import ShellTool\n",
    "\n",
    "shell = ShellTool()\n",
    "shell.invoke('python --version')"
   ]
  },
  {
   "cell_type": "markdown",
   "id": "982b6b1f",
   "metadata": {},
   "source": [
    "## Custom Tools"
   ]
  },
  {
   "cell_type": "code",
   "execution_count": 12,
   "id": "620c7fa5",
   "metadata": {},
   "outputs": [
    {
     "name": "stdout",
     "output_type": "stream",
     "text": [
      "multiply\n",
      "multiply two numbers\n",
      "{'a': {'title': 'A', 'type': 'integer'}, 'b': {'title': 'B', 'type': 'integer'}}\n",
      "{'description': 'multiply two numbers', 'properties': {'a': {'title': 'A', 'type': 'integer'}, 'b': {'title': 'B', 'type': 'integer'}}, 'required': ['a', 'b'], 'title': 'multiply', 'type': 'object'}\n"
     ]
    },
    {
     "data": {
      "text/plain": [
       "50"
      ]
     },
     "execution_count": 12,
     "metadata": {},
     "output_type": "execute_result"
    }
   ],
   "source": [
    "from langchain_community.tools import tool\n",
    "\n",
    "@tool\n",
    "def multiply(a:int,b:int) -> int :\n",
    "    \"\"\"multiply two numbers\"\"\"\n",
    "    return a*b\n",
    "\n",
    "print(multiply.name)\n",
    "print(multiply.description)\n",
    "print(multiply.args)\n",
    "print(multiply.args_schema.model_json_schema()) #llm will see this schema\n",
    "multiply.invoke({'a':10,'b':5})"
   ]
  },
  {
   "cell_type": "markdown",
   "id": "4008e9e2",
   "metadata": {},
   "source": [
    "### using Structured-tool and pydantic "
   ]
  },
  {
   "cell_type": "code",
   "execution_count": 14,
   "id": "ca77b8fb",
   "metadata": {},
   "outputs": [
    {
     "name": "stdout",
     "output_type": "stream",
     "text": [
      "20\n",
      "{'a': {'description': 'first number', 'title': 'A', 'type': 'integer'}, 'b': {'description': 'second umber', 'title': 'B', 'type': 'integer'}}\n",
      "multiplies two integer number\n"
     ]
    }
   ],
   "source": [
    "from langchain.tools import StructuredTool\n",
    "from pydantic import BaseModel,Field\n",
    "\n",
    "class MultiplyInput(BaseModel):\n",
    "    a:int = Field(description='first number')\n",
    "    b:int = Field(description='second umber')\n",
    "    \n",
    "def mul(a:int,b:int) -> int:\n",
    "    return a*b\n",
    "\n",
    "multiply_tool = StructuredTool.from_function(\n",
    "    func=mul,\n",
    "    name='multiply',\n",
    "    description='multiplies two integer number',\n",
    "    args_schema=MultiplyInput\n",
    ")\n",
    "\n",
    "result=multiply_tool.invoke({'a':10,'b':2})\n",
    "print(result)\n",
    "print(multiply_tool.args)\n",
    "print(multiply_tool.description)"
   ]
  },
  {
   "cell_type": "markdown",
   "id": "e4a65843",
   "metadata": {},
   "source": [
    "### using BaseTool"
   ]
  },
  {
   "cell_type": "code",
   "execution_count": 16,
   "id": "270f6585",
   "metadata": {},
   "outputs": [
    {
     "data": {
      "text/plain": [
       "15"
      ]
     },
     "execution_count": 16,
     "metadata": {},
     "output_type": "execute_result"
    }
   ],
   "source": [
    "from langchain.tools import BaseTool\n",
    "from typing import Type\n",
    "\n",
    "class AddInput(BaseModel):\n",
    "    a:int = Field(description='first number')\n",
    "    b:int = Field(description='second number')\n",
    "\n",
    "class AddTool(BaseTool):\n",
    "    name : str ='addition'\n",
    "    description : str='addition of two integers'\n",
    "    args_schema:Type[BaseModel] = AddInput\n",
    "    \n",
    "    def _run(self,a:int,b:int) -> int:\n",
    "        return a+b\n",
    "\n",
    "add_tool = AddTool()\n",
    "\n",
    "add_tool.invoke({'a':10,'b':5})"
   ]
  },
  {
   "cell_type": "markdown",
   "id": "685cacb3",
   "metadata": {},
   "source": [
    "## Toolkit"
   ]
  },
  {
   "cell_type": "markdown",
   "id": "0d58339d",
   "metadata": {},
   "source": []
  },
  {
   "cell_type": "code",
   "execution_count": 18,
   "id": "64507e42",
   "metadata": {},
   "outputs": [
    {
     "name": "stdout",
     "output_type": "stream",
     "text": [
      "add\n",
      "mul\n"
     ]
    }
   ],
   "source": [
    "@tool\n",
    "def add(a:int,b:int) -> int:\n",
    "    \"\"\"add two numbers\"\"\"\n",
    "    return a+b\n",
    "\n",
    "@tool\n",
    "def mul(a:int,b:int) -> int:\n",
    "    \"\"\"multiply two numbers\"\"\"\n",
    "    return a*b\n",
    "\n",
    "class MathToolkit:\n",
    "    def get_tools(self):\n",
    "        return [add,mul]\n",
    "    \n",
    "toolkit = MathToolkit().get_tools()\n",
    "for tool in toolkit:\n",
    "    print(tool.name)"
   ]
  },
  {
   "cell_type": "code",
   "execution_count": null,
   "id": "a34b7707",
   "metadata": {},
   "outputs": [],
   "source": []
  }
 ],
 "metadata": {
  "kernelspec": {
   "display_name": "venv",
   "language": "python",
   "name": "python3"
  },
  "language_info": {
   "codemirror_mode": {
    "name": "ipython",
    "version": 3
   },
   "file_extension": ".py",
   "mimetype": "text/x-python",
   "name": "python",
   "nbconvert_exporter": "python",
   "pygments_lexer": "ipython3",
   "version": "3.12.6"
  }
 },
 "nbformat": 4,
 "nbformat_minor": 5
}
