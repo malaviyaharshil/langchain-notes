{
 "cells": [
  {
   "cell_type": "code",
   "execution_count": 2,
   "id": "3a3c3d64",
   "metadata": {},
   "outputs": [],
   "source": [
    "from langchain.tools import DuckDuckGoSearchRun,tool\n",
    "from langchain_ollama import ChatOllama\n",
    "from langchain.agents import create_react_agent,AgentExecutor\n",
    "import requests\n",
    "from langchain import hub"
   ]
  },
  {
   "cell_type": "code",
   "execution_count": 3,
   "id": "80665458",
   "metadata": {},
   "outputs": [],
   "source": [
    "@tool\n",
    "def get_weather_data(city: str) -> str:\n",
    "  \"\"\"\n",
    "  This function fetches the current weather data for a given city\n",
    "  \"\"\"\n",
    "  url = f'https://api.weatherstack.com/current?access_key=4d1d8ae207a8c845a52df8a67bf3623e&query={city}'\n",
    "\n",
    "  response = requests.get(url)\n",
    "\n",
    "  return response.json()"
   ]
  },
  {
   "cell_type": "code",
   "execution_count": 4,
   "id": "0accee75",
   "metadata": {},
   "outputs": [],
   "source": [
    "llm = ChatOllama(model='llama3.2:3b')\n",
    "search_tool = DuckDuckGoSearchRun()"
   ]
  },
  {
   "cell_type": "code",
   "execution_count": 5,
   "id": "f4c27c43",
   "metadata": {},
   "outputs": [
    {
     "name": "stderr",
     "output_type": "stream",
     "text": [
      "c:\\Users\\malav\\OneDrive\\Desktop\\Documents\\Books_IT\\AI\\langchain-notes\\Langchain\\venv\\Lib\\site-packages\\langsmith\\client.py:272: LangSmithMissingAPIKeyWarning: API key must be provided when using hosted LangSmith API\n",
      "  warnings.warn(\n"
     ]
    }
   ],
   "source": [
    "prompt = hub.pull(\"hwchase17/react\")"
   ]
  },
  {
   "cell_type": "code",
   "execution_count": 6,
   "id": "958bb7f0",
   "metadata": {},
   "outputs": [],
   "source": [
    "agent = create_react_agent(\n",
    "    llm=llm,\n",
    "    tools=[search_tool],\n",
    "    prompt=prompt\n",
    ")"
   ]
  },
  {
   "cell_type": "code",
   "execution_count": 8,
   "id": "0179f2ae",
   "metadata": {},
   "outputs": [],
   "source": [
    "agent_executor = AgentExecutor(\n",
    "    agent=agent,\n",
    "    tools=[search_tool],\n",
    "    verbose=True # shows reasoning and agentic calls\n",
    ")"
   ]
  },
  {
   "cell_type": "code",
   "execution_count": 10,
   "id": "318e1de0",
   "metadata": {},
   "outputs": [
    {
     "name": "stdout",
     "output_type": "stream",
     "text": [
      "\n",
      "\n",
      "\u001b[1m> Entering new AgentExecutor chain...\u001b[0m\n",
      "\u001b[32;1m\u001b[1;3mThought: I need to find out the current gold price in USD.\n",
      "\n",
      "Action: duckduckgo_search\n",
      "Action Input: \"gold price today in USD\"\n",
      "\u001b[0m\u001b[36;1m\u001b[1;3mLive Gold Charts and Gold Spot Price from International Gold Markets, Prices from New York, London, Hong Kong and Sydney provided by Kitco. US Dollars Gold Price History Charts. 30 Day gold Price History in US Dollars per Ounce. ... The Mint was established in Philadelphia in 1792, and today there are four active coin-minting locations including Philadelphia, Denver, West Point and San Francisco. The U.S. Mint also produces a variety of bullion and collectible coins. Gold Price in USA Today: per oz 3,242.93 United States dollars. Gold prices for the USA are denominated in American dollars (USD). Live Price of Gold provides daily updates on gold prices across various states in the United States of America. The most current gold price in United States dollar 24,22,18,14,10,6 carat View the spot price of Gold and plan your purchase today. Opens in a new window Opens an external site Opens an external site in a new window. Gold. $3,248.30 $30.50 0.95 % Silver. $32. ... This is partially why a correlation exists between the USD and Gold prices. When the US dollar is weak, gold prices tend to move upwards, and when the US ... Today gold price in U.S. Dollar per ounce, gram and tola in different karats; 24, 22, 21, 18, 14, 12, 10 based on live spot gold price. Gold Price. ... Gold Rate in United States (USD) More Countries in North America: South America; Gold Rate in Argentina (ARS) Gold Rate in Brazil (BRL)\u001b[0m\u001b[32;1m\u001b[1;3mQuestion: gold price today in USD\n",
      "Thought: I need to find out the current gold price in USD.\n",
      "\n",
      "Action: duckduckgo_search\n",
      "Action Input: \"gold price today in USD\"\n",
      "\u001b[0m\u001b[36;1m\u001b[1;3mLive Gold Charts and Gold Spot Price from International Gold Markets, Prices from New York, London, Hong Kong and Sydney provided by Kitco. US Dollars Gold Price History Charts. 30 Day gold Price History in US Dollars per Ounce. ... The Mint was established in Philadelphia in 1792, and today there are four active coin-minting locations including Philadelphia, Denver, West Point and San Francisco. The U.S. Mint also produces a variety of bullion and collectible coins. View the spot price of Gold and plan your purchase today. Opens in a new window Opens an external site Opens an external site in a new window. Gold. $3,248.30 $30.50 0.95 % Silver. $32. ... This is partially why a correlation exists between the USD and Gold prices. When the US dollar is weak, gold prices tend to move upwards, and when the US ... Gold Price in USA Today: per oz 3,242.93 United States dollars. Gold prices for the USA are denominated in American dollars (USD). Live Price of Gold provides daily updates on gold prices across various states in the United States of America. The most current gold price in United States dollar 24,22,18,14,10,6 carat Today gold price in U.S. Dollar per ounce, gram and tola in different karats; 24, 22, 21, 18, 14, 12, 10 based on live spot gold price. Gold Price. ... Gold Rate in United States (USD) More Countries in North America: South America; Gold Rate in Argentina (ARS) Gold Rate in Brazil (BRL)\u001b[0m\u001b[32;1m\u001b[1;3mQuestion: gold price today in USD\n",
      "Thought: I need to find out the current gold price in USD.\n",
      "\n",
      "Action: duckduckgo_search\n",
      "Action Input: \"gold price today in USD\"\n",
      "\u001b[0m\u001b[36;1m\u001b[1;3mLive Gold Charts and Gold Spot Price from International Gold Markets, Prices from New York, London, Hong Kong and Sydney provided by Kitco. US Dollars Gold Price History Charts. 30 Day gold Price History in US Dollars per Ounce. ... The Mint was established in Philadelphia in 1792, and today there are four active coin-minting locations including Philadelphia, Denver, West Point and San Francisco. The U.S. Mint also produces a variety of bullion and collectible coins. View the spot price of Gold and plan your purchase today. Opens in a new window Opens an external site Opens an external site in a new window. Gold. $3,248.30 $30.50 0.95 % Silver. $32. ... This is partially why a correlation exists between the USD and Gold prices. When the US dollar is weak, gold prices tend to move upwards, and when the US ... Gold Price in USA Today: per oz 3,242.93 United States dollars. Gold prices for the USA are denominated in American dollars (USD). Live Price of Gold provides daily updates on gold prices across various states in the United States of America. The most current gold price in United States dollar 24,22,18,14,10,6 carat You can monitor the current price of gold today by changing the chart scale to 10 minutes, 1 hour, 6 hours or 1 day. ... the US dollar spot price for 1 ounce of gold is and in Canadian dollars . However, it's possible to track the real-time changing price of gold, plus daily, weekly, monthly and yearly gold price trends using BullionVault's ...\u001b[0m\u001b[32;1m\u001b[1;3mQuestion: gold price today in USD\n",
      "Thought: I now know the final answer\n",
      "\n",
      "Final Answer: The current gold price in USD is $3,248.30 per ounce.\u001b[0m\n",
      "\n",
      "\u001b[1m> Finished chain.\u001b[0m\n"
     ]
    },
    {
     "data": {
      "text/plain": [
       "{'input': 'gold price today in usd',\n",
       " 'output': 'The current gold price in USD is $3,248.30 per ounce.'}"
      ]
     },
     "execution_count": 10,
     "metadata": {},
     "output_type": "execute_result"
    }
   ],
   "source": [
    "agent_executor.invoke({'input':'gold price today in usd'})"
   ]
  },
  {
   "cell_type": "code",
   "execution_count": null,
   "id": "a443d5b5",
   "metadata": {},
   "outputs": [],
   "source": []
  }
 ],
 "metadata": {
  "kernelspec": {
   "display_name": "venv",
   "language": "python",
   "name": "python3"
  },
  "language_info": {
   "codemirror_mode": {
    "name": "ipython",
    "version": 3
   },
   "file_extension": ".py",
   "mimetype": "text/x-python",
   "name": "python",
   "nbconvert_exporter": "python",
   "pygments_lexer": "ipython3",
   "version": "3.12.6"
  }
 },
 "nbformat": 4,
 "nbformat_minor": 5
}
